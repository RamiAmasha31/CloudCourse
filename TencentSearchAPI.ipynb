{
  "nbformat": 4,
  "nbformat_minor": 0,
  "metadata": {
    "colab": {
      "provenance": [],
      "include_colab_link": true
    },
    "kernelspec": {
      "name": "python3",
      "display_name": "Python 3"
    },
    "language_info": {
      "name": "python"
    }
  },
  "cells": [
    {
      "cell_type": "markdown",
      "metadata": {
        "id": "view-in-github",
        "colab_type": "text"
      },
      "source": [
        "<a href=\"https://colab.research.google.com/github/RamiAmasha31/CloudCourse/blob/main/TencentSearchAPI.ipynb\" target=\"_parent\"><img src=\"https://colab.research.google.com/assets/colab-badge.svg\" alt=\"Open In Colab\"/></a>"
      ]
    },
    {
      "cell_type": "markdown",
      "source": [
        "Cloud Course Course\n",
        "---\n",
        "___\n",
        "Tencent API\n",
        "---\n",
        "___\n",
        "This notebook holds the function that will query and search throught the indexed the pages"
      ],
      "metadata": {
        "id": "o-ub27vuQ4wd"
      }
    },
    {
      "cell_type": "markdown",
      "source": [
        "Initialize Libraries and Firebase connection"
      ],
      "metadata": {
        "id": "1no_r4RXS2nu"
      }
    },
    {
      "cell_type": "code",
      "source": [
        "!pip install firebase\n",
        "\n"
      ],
      "metadata": {
        "id": "tUoBhkmNR8eR",
        "colab": {
          "base_uri": "https://localhost:8080/"
        },
        "outputId": "4b7d92fa-4c9f-48df-9821-6c0f068cac66"
      },
      "execution_count": null,
      "outputs": [
        {
          "output_type": "stream",
          "name": "stdout",
          "text": [
            "Collecting firebase\n",
            "  Downloading firebase-4.0.1-py3-none-any.whl (12 kB)\n",
            "Requirement already satisfied: requests in /usr/local/lib/python3.10/dist-packages (from firebase) (2.31.0)\n",
            "Requirement already satisfied: charset-normalizer<4,>=2 in /usr/local/lib/python3.10/dist-packages (from requests->firebase) (3.3.2)\n",
            "Requirement already satisfied: idna<4,>=2.5 in /usr/local/lib/python3.10/dist-packages (from requests->firebase) (3.6)\n",
            "Requirement already satisfied: urllib3<3,>=1.21.1 in /usr/local/lib/python3.10/dist-packages (from requests->firebase) (2.0.7)\n",
            "Requirement already satisfied: certifi>=2017.4.17 in /usr/local/lib/python3.10/dist-packages (from requests->firebase) (2024.2.2)\n",
            "Installing collected packages: firebase\n",
            "Successfully installed firebase-4.0.1\n"
          ]
        }
      ]
    },
    {
      "cell_type": "code",
      "source": [
        "\n",
        "import hashlib\n",
        "from datetime import datetime\n",
        "\n",
        "\n",
        "#Prepare Firebase\n",
        "from firebase import firebase\n",
        "fbConn = firebase.FirebaseApplication('https://braudecloud-18-02-2024-default-rtdb.europe-west1.firebasedatabase.app/',None)\n",
        "#fbConn = firebase.FirebaseApplication('https://smart-howl-250311.firebaseio.com/',None)\n"
      ],
      "metadata": {
        "id": "cSWdY77M69sN"
      },
      "execution_count": null,
      "outputs": []
    },
    {
      "cell_type": "code",
      "execution_count": null,
      "metadata": {
        "id": "TgQNTFOtQy4E",
        "colab": {
          "base_uri": "https://localhost:8080/"
        },
        "outputId": "3151dde5-4042-4b81-be2e-b834cbc7d187"
      },
      "outputs": [
        {
          "output_type": "stream",
          "name": "stdout",
          "text": [
            "{'title': 'Tencent - Tencent 腾讯', 'url': 'https://www.tencent.com/en-us/about.html'}\n"
          ]
        }
      ],
      "source": [
        "# @title Search Words\n",
        "\n",
        "def get_indexed_pages(query):\n",
        "\n",
        "  #Get the data for the given query\n",
        "  indexed_pages = fbConn.get('/index/' + query, None)\n",
        "  hashed_titles_unsorted = list(indexed_pages.keys())\n",
        "  hashed_titles_sorted = sorted(hashed_titles_unsorted, key=lambda x: indexed_pages[x]['count'], reverse=True)\n",
        "  return hashed_titles_sorted\n",
        "\n",
        "def get_pages_info(hashed_urls):\n",
        "  links = []\n",
        "\n",
        "  # Iterate over each hashed URL\n",
        "  for hashed_url in hashed_urls:\n",
        "    if hashed_url is not None:\n",
        "    # Retrieve the URL from the pages node using the hashed URL\n",
        "      page_data = fbConn.get('/pages/' + hashed_url, None)\n",
        "\n",
        "      if page_data:\n",
        "        links.append(page_data)\n",
        "\n",
        "  if links:\n",
        "    return links\n",
        "  else:\n",
        "    return []\n",
        "\n",
        "\n",
        "search_word_from_input = \"cloud\" # @param {type:\"string\"}\n",
        "\n",
        "\n",
        "hashed_pages = get_indexed_pages(search_word_from_input)\n",
        "links = get_pages_info(hashed_pages[:5])\n",
        "\n",
        "\n",
        "for link in links:\n",
        "    print(link)\n",
        "\n"
      ]
    },
    {
      "cell_type": "code",
      "source": [
        "# Example usage\n",
        "# @title Add Index Word\n",
        "new_index = \"business\" # @param {type:\"string\"}\n",
        "\n",
        "\n",
        "def hash_word(word_to_hash):\n",
        "  return hashlib.md5(word_to_hash.encode()).hexdigest()\n",
        "\n",
        "def add_index_word(word):\n",
        "  hashed_word = hash_word(word)\n",
        "  data_to_upload = {\n",
        "    \"term\": word\n",
        "  }\n",
        "  result = fbConn.put('/words', hashed_word,data=data_to_upload)\n",
        "\n",
        "#add_index_word(new_index)\n",
        "\n",
        "queries = [\"tencent\",\"cloud\",\"games\",\"studio\",\"holdings\",\"business\",\"china\",\"nvidia\",\"graphics\",\"development\"]\n",
        "for word in queries:\n",
        "  add_index_word(word)"
      ],
      "metadata": {
        "id": "g-vJcRqKhE1T"
      },
      "execution_count": null,
      "outputs": []
    },
    {
      "cell_type": "code",
      "source": [
        "# @title Word Frequency Data\n",
        "\n",
        "def get_index_data():\n",
        "    data = fbConn.get('index',None)\n",
        "    #keys = list(data.keys()) if data else []\n",
        "    return data\n",
        "\n",
        "def getAverageFrequencyData():\n",
        "  word_data = get_index_data()\n",
        "  average_frequency = {}\n",
        "  for word, links in word_data.items():\n",
        "    total_count = sum(count_dict['count'] for count_dict in links.values())\n",
        "    num_links = len(links)\n",
        "    average_frequency[word] = round(total_count / num_links)\n",
        "\n",
        "  chart_data = []\n",
        "  for word, frequency in average_frequency.items():\n",
        "    chart_data.append({'x': len(word_data[word]), 'y':frequency , 'label': word})\n",
        "\n",
        "  return chart_data\n",
        "\n",
        "def getTotalFrequencyData():\n",
        "  word_data = get_index_data()\n",
        "  total_frequency = {}\n",
        "  for word, links in word_data.items():\n",
        "    total_frequency[word] = sum(count_dict['count'] for count_dict in links.values())\n",
        "\n",
        "  chart_data = []\n",
        "  for word, frequency in total_frequency.items():\n",
        "    chart_data.append({'x': len(word_data[word]) , 'y':frequency, 'label': word})\n",
        "\n",
        "  return chart_data\n",
        "\n",
        "print(getAverageFrequencyData())\n",
        "print(getTotalFrequencyData())\n"
      ],
      "metadata": {
        "colab": {
          "base_uri": "https://localhost:8080/"
        },
        "id": "apEGGsP1Myi8",
        "outputId": "fb45cef5-7b23-4ece-e539-3f6060573b6c"
      },
      "execution_count": null,
      "outputs": [
        {
          "output_type": "stream",
          "name": "stdout",
          "text": [
            "[{'x': 16, 'y': 2, 'label': 'china'}, {'x': 13, 'y': 7, 'label': 'cloud'}, {'x': 16, 'y': 26, 'label': 'tencent'}]\n",
            "[{'x': 16, 'y': 30, 'label': 'china'}, {'x': 13, 'y': 88, 'label': 'cloud'}, {'x': 16, 'y': 415, 'label': 'tencent'}]\n"
          ]
        }
      ]
    },
    {
      "cell_type": "markdown",
      "source": [
        "Users\n",
        "---\n",
        "___\n"
      ],
      "metadata": {
        "id": "iPsJtWY53Gzz"
      }
    },
    {
      "cell_type": "code",
      "source": [
        "# @title Sign up\n",
        "def hash_user(user,password):\n",
        "  posthash = user+password\n",
        "  return hashlib.md5(posthash.encode()).hexdigest()\n",
        "\n",
        "def sign_up(username,password):\n",
        "  hashed_user = hash_user(username,password)\n",
        "  data_to_upload = {\n",
        "    \"username\": username,\n",
        "    \"password\": password\n",
        "  }\n",
        "  result = fbConn.put('/users',hashed_user,data=data_to_upload)\n",
        "  print(result)\n",
        "\n",
        "\n",
        "\n",
        "sign_up(\"ward\",\"pass\")"
      ],
      "metadata": {
        "colab": {
          "base_uri": "https://localhost:8080/"
        },
        "id": "i3mFNCxh24Xf",
        "outputId": "363e5478-b368-4ad3-ddc1-53c1e57a2819"
      },
      "execution_count": null,
      "outputs": [
        {
          "output_type": "stream",
          "name": "stdout",
          "text": [
            "{'password': 'pass', 'username': 'ward'}\n"
          ]
        }
      ]
    },
    {
      "cell_type": "code",
      "source": [
        "# @title Sign in\n",
        "def hash_user(user,password):\n",
        "  prehash = user+password\n",
        "  return hashlib.md5(prehash.encode()).hexdigest()\n",
        "\n",
        "def sign_in(username,password):\n",
        "  hashed_user = hash_user(username,password)\n",
        "\n",
        "  user_data = fbConn.get('/users/' + hashed_user, None)\n",
        "  if user_data is not None:\n",
        "    session_data={\n",
        "        \"user\": hashed_user,\n",
        "        \"start_time\": datetime.now()\n",
        "    }\n",
        "    result = fbConn.post(\"sessions\", data=session_data)\n",
        "    return result['name']\n",
        "  else:\n",
        "    return None\n",
        "\n",
        "\n",
        "\n",
        "sign_in(\"ward\",\"pass\")"
      ],
      "metadata": {
        "colab": {
          "base_uri": "https://localhost:8080/",
          "height": 35
        },
        "id": "l6M5mrFC7pxB",
        "outputId": "675a0808-55c7-4c8c-c3c6-44b5e1fa137f"
      },
      "execution_count": null,
      "outputs": [
        {
          "output_type": "execute_result",
          "data": {
            "text/plain": [
              "'-Nu0_JAk68P1myeefJZ-'"
            ],
            "application/vnd.google.colaboratory.intrinsic+json": {
              "type": "string"
            }
          },
          "metadata": {},
          "execution_count": 9
        }
      ]
    },
    {
      "cell_type": "code",
      "source": [
        "# @title New Word Search. Also adds Session\n",
        "\n",
        "def sort_pages(pages_to_sort):\n",
        "  sorted_pages=[]\n",
        "  #print(pages_to_sort)\n",
        "  for key in pages_to_sort:\n",
        "    path='pointed/' + key +'/pointed_from'\n",
        "    array_data = fbConn.get(path, None)\n",
        "    #print(path,\" \",array_data)\n",
        "    if array_data:\n",
        "        length = len(array_data)\n",
        "        count = length if length > 0 else 1\n",
        "        pages_to_sort[key]['count'] = count * pages_to_sort[key]['count']\n",
        "\n",
        "  #print(pages_to_sort)\n",
        "  #Sort Pages\n",
        "  if pages_to_sort:\n",
        "    hashed_titles_unsorted = list(pages_to_sort.keys())\n",
        "    hashed_titles_sorted = sorted(hashed_titles_unsorted, key=lambda x: pages_to_sort[x]['count'], reverse=True)\n",
        "    sorted_pages = hashed_titles_sorted\n",
        "  return sorted_pages\n",
        "\n",
        "def get_indexed_pages(query,session):\n",
        "  #Get the data for the given query\n",
        "  indexed_pages = fbConn.get('/index/' + query, None)\n",
        "\n",
        "  link_hashes = sort_pages(indexed_pages)\n",
        "\n",
        "  #Add the query and response to a session\n",
        "  session_data={\n",
        "      \"action\": \"search\",\n",
        "      \"datetime\": datetime.now(),\n",
        "      \"input\": query,\n",
        "      \"output\": link_hashes\n",
        "  }\n",
        "  fbConn.post(\"/sessions/\"+session, data=session_data)\n",
        "\n",
        "  return link_hashes\n",
        "\n",
        "def get_pages_info(hashed_urls):\n",
        "  links = []\n",
        "\n",
        "  # Iterate over each hashed URL\n",
        "  for hashed_url in hashed_urls:\n",
        "    if hashed_url is not None:\n",
        "    # Retrieve the URL from the pages node using the hashed URL\n",
        "      page_data = fbConn.get('/pages/' + hashed_url, None)\n",
        "      if page_data:\n",
        "        links.append(page_data)\n",
        "\n",
        "  if links:\n",
        "    return links\n",
        "  else:\n",
        "    return []\n",
        "\n",
        "\n",
        "hashed_pages = get_indexed_pages(\"china\",\"-Nu0_JAk68P1myeefJZ-\")\n",
        "links = get_pages_info(hashed_pages[:5])\n",
        "\n",
        "\n",
        "for link in links:\n",
        "    print(link)\n"
      ],
      "metadata": {
        "colab": {
          "base_uri": "https://localhost:8080/"
        },
        "id": "1F2NYIQ-_m7R",
        "outputId": "718cc309-30ef-4d10-ba1e-36a79043d59f"
      },
      "execution_count": null,
      "outputs": [
        {
          "output_type": "stream",
          "name": "stdout",
          "text": [
            "{'title': 'Media - Tencent 腾讯', 'url': 'https://www.tencent.com/en-us/media/news.html?type=financial'}\n",
            "{'title': 'Media - Tencent 腾讯', 'url': 'https://www.tencent.com/en-us/media/news.html?type=media'}\n",
            "{'title': 'Investors - Tencent 腾讯', 'url': 'https://www.tencent.com/en-us/investors/board-members.html'}\n",
            "{'title': 'Tencent 腾讯', 'url': 'https://www.tencent.com/en-us/index.html'}\n",
            "{'title': 'Employees - Tencent 腾讯', 'url': 'https://www.tencent.com/en-us/employees.html#staff-con-4'}\n"
          ]
        }
      ]
    }
  ]
}